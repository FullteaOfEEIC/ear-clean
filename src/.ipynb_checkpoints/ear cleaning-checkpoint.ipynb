{
 "cells": [
  {
   "cell_type": "code",
   "execution_count": 1,
   "metadata": {},
   "outputs": [],
   "source": [
    "from pydub import AudioSegment\n",
    "import matplotlib.pyplot as plt\n",
    "import numpy as np\n",
    "from tensorflow.keras.models import Sequential\n",
    "from tensorflow.keras.layers import LSTM, Dense\n",
    "from tensorflow.keras.utils import Sequence\n",
    "import os\n",
    "from tqdm.auto import tqdm"
   ]
  },
  {
   "cell_type": "code",
   "execution_count": 2,
   "metadata": {},
   "outputs": [],
   "source": [
    "os.environ[\"CUDA_VISIBLE_DEVICES\"]=\"\"\n",
    "LENGTH=22100\n",
    "OUT_LENGTH=100"
   ]
  },
  {
   "cell_type": "code",
   "execution_count": 3,
   "metadata": {},
   "outputs": [],
   "source": [
    "model=Sequential()\n",
    "model.add(LSTM(300, batch_input_shape=(None,LENGTH, 2)))\n",
    "model.add(Dense(2*OUT_LENGTH, activation=\"linear\"))"
   ]
  },
  {
   "cell_type": "code",
   "execution_count": 4,
   "metadata": {},
   "outputs": [],
   "source": [
    "model.compile(loss=\"mean_squared_error\", optimizer=\"rmsprop\")"
   ]
  },
  {
   "cell_type": "code",
   "execution_count": 5,
   "metadata": {},
   "outputs": [],
   "source": [
    "class DataLoader(Sequence):\n",
    "    def __init__(self, filename, length,out_length,batch_size):\n",
    "        sound = AudioSegment.from_mp3(filename)\n",
    "        sound = np.array(sound.get_array_of_samples())\n",
    "        left=sound[::2]\n",
    "        right=sound[1::2]\n",
    "        sound = np.concatenate([left,right])\n",
    "        sound = (sound+32768).astype(np.float32)/65535\n",
    "        self.sound = sound.reshape((2,-1)).T\n",
    "        self.batch_size = batch_size\n",
    "        self.length=length\n",
    "        self.out_length=out_length\n",
    "    \n",
    "    def __len__(self):\n",
    "        return int(np.ceil((self.sound.shape[0] - self.length)/self.batch_size))\n",
    "    \n",
    "    def __getitem__(self, idx):\n",
    "        X=[]\n",
    "        y=[]\n",
    "        batch_size = self.batch_size\n",
    "        length=self.length\n",
    "        out_length=self.out_length\n",
    "        for i in range(batch_size):\n",
    "            X.append(self.sound[idx*batch_size+i:idx*batch_size+length+i])\n",
    "            y.append(self.sound[idx*batch_size+length+i+1:idx*batch_size+length+out_length+i+1].reshape(-1,))\n",
    "        X= np.asarray(X)\n",
    "        y=np.asarray(y)\n",
    "        if X.shape[1:]==(length,2) and y.shape[1]==out_length*2:\n",
    "            return X, y\n",
    "        else:\n",
    "            print(\"error loading\")\n",
    "            return np.zeros((1,length,2)), np.zeros((1,out_length*2))\n"
   ]
  },
  {
   "cell_type": "code",
   "execution_count": 6,
   "metadata": {},
   "outputs": [],
   "source": [
    "data_gen=DataLoader(\"ear.mp3\", LENGTH,OUT_LENGTH, 32)"
   ]
  },
  {
   "cell_type": "code",
   "execution_count": null,
   "metadata": {},
   "outputs": [
    {
     "name": "stdout",
     "output_type": "stream",
     "text": [
      "WARNING:tensorflow:sample_weight modes were coerced from\n",
      "  ...\n",
      "    to  \n",
      "  ['...']\n",
      "Train for 3320622 steps\n",
      "      9/3320622 [..............................] - ETA: 65130:38:09 - loss: 0.1061"
     ]
    }
   ],
   "source": [
    "model.fit(data_gen, shuffle=True)"
   ]
  },
  {
   "cell_type": "code",
   "execution_count": null,
   "metadata": {},
   "outputs": [],
   "source": [
    "now=np.zeros((1,LENGTH,2))+0.5\n",
    "for i in tqdm(range(1000)):\n",
    "    pred=model.predict(now[:,-1*LENGTH:,:])\n",
    "    now=np.concatenate([now,pred.reshape(1,1,2)],axis=1)"
   ]
  },
  {
   "cell_type": "code",
   "execution_count": null,
   "metadata": {},
   "outputs": [],
   "source": [
    "plt.plot([i for i in range(now.shape[1])],now[0,:,0])\n",
    "plt.plot([i for i in range(now.shape[1])],now[0,:,1])"
   ]
  }
 ],
 "metadata": {
  "kernelspec": {
   "display_name": "Python 3",
   "language": "python",
   "name": "python3"
  },
  "language_info": {
   "codemirror_mode": {
    "name": "ipython",
    "version": 3
   },
   "file_extension": ".py",
   "mimetype": "text/x-python",
   "name": "python",
   "nbconvert_exporter": "python",
   "pygments_lexer": "ipython3",
   "version": "3.6.9"
  }
 },
 "nbformat": 4,
 "nbformat_minor": 4
}
